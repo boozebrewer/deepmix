{
 "cells": [
  {
   "cell_type": "markdown",
   "metadata": {},
   "source": [
    "# Progress Report"
   ]
  },
  {
   "cell_type": "markdown",
   "metadata": {},
   "source": [
    "# Our setup\n",
    "\n",
    "We've opened a server on AWS (amazon) that supports GPU based on ami-b36981d8. We only needed to update torch and some dependencies on the virtual machine and clone neural-style from github.\n",
    "\n",
    "We've used a STFT/ISTFT to create style/content spectrugrams and send them to AWS with ssh2/scp (Ganymed for Matlab), run neural-style algorithm implemented by  @jcjohnson [github](https://github.com/jcjohnson/neural-style) following  _A. Gatys \"A Neural Algorithm of Artistic Style\"_  and return the transfered image back to my PC for reconstruction of the wav.\n",
    "This allows us to check several algorithm parameters and wav inputs quickly.\n",
    "Our code is available at [github](https://github.com/boozebrewer/deepmix) run the \"full-loop\" setup is matlab/full_loop.m.\n",
    "\n",
    "\n"
   ]
  },
  {
   "cell_type": "markdown",
   "metadata": {},
   "source": [
    "# Graphical style transfer demo\n",
    "## Algorithm parameters review\n",
    "<pre>\n",
    "  -style_blend_weights [nil]\n",
    "  -image_size          Maximum height / width of generated image [512]\n",
    "  -content_weight      [5]\n",
    "  -style_weight        [100]\n",
    "  -tv_weight           [0.001]\n",
    "  -num_iterations      [1000]\n",
    "  -normalize_gradients [false]\n",
    "  -init                random|image [random]\n",
    "  -optimizer           lbfgs|adam [lbfgs]\n",
    "  -learning_rate       [10]\n",
    "  -style_scale         [1]\n",
    "  -original_colors     [0]\n",
    "  -pooling             max|avg [max]\n",
    "  -proto_file          [models/VGG_ILSVRC_19_layers_deploy.prototxt]\n",
    "  -model_file          [models/VGG_ILSVRC_19_layers.caffemodel]\n",
    "  -content_layers      layers for content [relu4_2]\n",
    "  -style_layers        layers for style [relu1_1,relu2_1,relu3_1,relu4_1,relu5_1]\n",
    "</pre>\n",
    "\n",
    "## Style transfer - random init\n",
    "\n",
    "<img src=\"../jpgs/brad-self-portrait/brad_series_1.png\">\n",
    "\n",
    "## Style transfer - content init\n",
    "\n",
    "<img src=\"../jpgs/brad-image_init/brad_init_image_series_1.png\">\n",
    "\n",
    "<img src=\"../jpgs/gab/gab_series_1.png\">"
   ]
  },
  {
   "cell_type": "markdown",
   "metadata": {},
   "source": [
    "# Audio Signal Processing\n",
    "\n",
    "* For the STFT part we've used 8kHz sampling rate with 512 freq (positive) bins\n",
    "* For the 2 second siganls a 32mSec frame with 4mSec skips was used. For upto 2 Sec audio segments this gives no more then 512 time frames, so the maximal image is 512x512. We used ISTFT with matched window parameters for perfect reconstruction.\n",
    "\n",
    "* For the 6 second signals a 32mSec frame with 16mSec skip was used to meet the limit of 512x512 images.\n",
    "\n",
    "* For forming the spectrograms we have taken the Log of the STFT and added an offset value so that our image has only positive values. The spectrograms are then saved to a 16bit gray-scale PNG. In reconstruction we remove this offset and at the end normalize to the content's gain.\n",
    "\n",
    "* In the reconstruction step of the audio from the spectrogram we are using the original phase information of the 'content' audio. Although, this information isn't very contributive to the reconstruction as we have noticed that we get fairly good reconstruction with replacing the orginal phase with random noise for the phase.\n",
    "\n",
    "* We note that that we used at most 512x512 images inorder that the algorithm will run fast enough, and won't go into memeory troubles.\n",
    "\n",
    "# Audio style transfer experiments\n",
    "We've tried style transfer from several contents to several styles.\n",
    "Tried these inputs in various configurations\n",
    "\n",
    "* voice male (3 words)\n",
    "* voice female (1 word)\n",
    "* chirp (from 100Hz to 3000Hz)\n",
    "* dtmf tones (12 diferent tones)\n",
    "* noise\n",
    "* chromatic scale 261.6Hz (C4) to 1046.5Hz (C6) (pure sine and fm modulated)\n",
    "* random notes 261.6Hz (C4) to 1046.5Hz (C6) (pure sine)\n",
    "\n",
    "To generate the last two (notes) we've used \"MIDI file tools for MATLAB\" from this [web-site](http://kenschutte.com/midi). With this Matlab package we were able to control the generation of midi notes in our desired timing and convert them to audio using different sythesis methos (i.e fm-modulation, saw-wave, pure sine).\n",
    "\n",
    "**We tweaked neural-transfer parameters:**\n",
    "* weight - controls how much weight is given the \"style\" picture\n",
    "* init   - controls the starting image of the optimization (random noise or the \"content\" image)\n",
    "* inter  - number of interation of the optimizaion step"
   ]
  },
  {
   "cell_type": "markdown",
   "metadata": {},
   "source": [
    "## Audio Bank"
   ]
  },
  {
   "cell_type": "code",
   "execution_count": 80,
   "metadata": {
    "collapsed": true
   },
   "outputs": [],
   "source": [
    "from IPython.display import Audio"
   ]
  },
  {
   "cell_type": "code",
   "execution_count": 81,
   "metadata": {
    "collapsed": false
   },
   "outputs": [
    {
     "data": {
      "text/html": [
       "\n",
       "                <audio controls=\"controls\" >\n",
       "                    <source src=\"audio/ben_holech.wav\" type=\"audio/wav\" />\n",
       "                    Your browser does not support the audio element.\n",
       "                </audio>\n",
       "              "
      ],
      "text/plain": [
       "<IPython.lib.display.Audio object>"
      ]
     },
     "execution_count": 81,
     "metadata": {},
     "output_type": "execute_result"
    }
   ],
   "source": [
    "Audio(url=\"audio/ben_holech.wav\") # voice male\n"
   ]
  },
  {
   "cell_type": "code",
   "execution_count": 82,
   "metadata": {
    "collapsed": false
   },
   "outputs": [
    {
     "data": {
      "text/html": [
       "\n",
       "                <audio controls=\"controls\" >\n",
       "                    <source src=\"audio/matlab.wav\" type=\"audio/wav\" />\n",
       "                    Your browser does not support the audio element.\n",
       "                </audio>\n",
       "              "
      ],
      "text/plain": [
       "<IPython.lib.display.Audio object>"
      ]
     },
     "execution_count": 82,
     "metadata": {},
     "output_type": "execute_result"
    }
   ],
   "source": [
    "Audio(url=\"audio/matlab.wav\") # voice female (1 word)"
   ]
  },
  {
   "cell_type": "code",
   "execution_count": 83,
   "metadata": {
    "collapsed": false
   },
   "outputs": [
    {
     "data": {
      "text/html": [
       "\n",
       "                <audio controls=\"controls\" >\n",
       "                    <source src=\"audio/chirp_sq_na_100_3000.wav\" type=\"audio/wav\" />\n",
       "                    Your browser does not support the audio element.\n",
       "                </audio>\n",
       "              "
      ],
      "text/plain": [
       "<IPython.lib.display.Audio object>"
      ]
     },
     "execution_count": 83,
     "metadata": {},
     "output_type": "execute_result"
    }
   ],
   "source": [
    "Audio(url=\"audio/chirp_sq_na_100_3000.wav\") # chirp (from 100Hz to 3000Hz)"
   ]
  },
  {
   "cell_type": "code",
   "execution_count": 84,
   "metadata": {
    "collapsed": false
   },
   "outputs": [
    {
     "data": {
      "text/html": [
       "\n",
       "                <audio controls=\"controls\" >\n",
       "                    <source src=\"audio/dtmf.wav\" type=\"audio/wav\" />\n",
       "                    Your browser does not support the audio element.\n",
       "                </audio>\n",
       "              "
      ],
      "text/plain": [
       "<IPython.lib.display.Audio object>"
      ]
     },
     "execution_count": 84,
     "metadata": {},
     "output_type": "execute_result"
    }
   ],
   "source": [
    "Audio(url=\"audio/dtmf.wav\") # dtmf tones (12 diferent tones)"
   ]
  },
  {
   "cell_type": "code",
   "execution_count": 85,
   "metadata": {
    "collapsed": false
   },
   "outputs": [
    {
     "data": {
      "text/html": [
       "\n",
       "                <audio controls=\"controls\" >\n",
       "                    <source src=\"audio/noise.wav\" type=\"audio/wav\" />\n",
       "                    Your browser does not support the audio element.\n",
       "                </audio>\n",
       "              "
      ],
      "text/plain": [
       "<IPython.lib.display.Audio object>"
      ]
     },
     "execution_count": 85,
     "metadata": {},
     "output_type": "execute_result"
    }
   ],
   "source": [
    "Audio(url=\"audio/noise.wav\") # noise"
   ]
  },
  {
   "cell_type": "code",
   "execution_count": 86,
   "metadata": {
    "collapsed": false
   },
   "outputs": [
    {
     "data": {
      "text/html": [
       "\n",
       "                <audio controls=\"controls\" >\n",
       "                    <source src=\"audio/scale_sin_6sec.wav\" type=\"audio/wav\" />\n",
       "                    Your browser does not support the audio element.\n",
       "                </audio>\n",
       "              "
      ],
      "text/plain": [
       "<IPython.lib.display.Audio object>"
      ]
     },
     "execution_count": 86,
     "metadata": {},
     "output_type": "execute_result"
    }
   ],
   "source": [
    "Audio(url=\"audio/scale_sin_6sec.wav\") # chromatic scale C4 to C6 (pure sine)"
   ]
  },
  {
   "cell_type": "code",
   "execution_count": 87,
   "metadata": {
    "collapsed": false
   },
   "outputs": [
    {
     "data": {
      "text/html": [
       "\n",
       "                <audio controls=\"controls\" >\n",
       "                    <source src=\"audio/scale_fm_6sec.wav\" type=\"audio/wav\" />\n",
       "                    Your browser does not support the audio element.\n",
       "                </audio>\n",
       "              "
      ],
      "text/plain": [
       "<IPython.lib.display.Audio object>"
      ]
     },
     "execution_count": 87,
     "metadata": {},
     "output_type": "execute_result"
    }
   ],
   "source": [
    "Audio(url=\"audio/scale_fm_6sec.wav\") # chromatic scale C4 to C6 (fm modulated)"
   ]
  },
  {
   "cell_type": "code",
   "execution_count": 88,
   "metadata": {
    "collapsed": false
   },
   "outputs": [
    {
     "data": {
      "text/html": [
       "\n",
       "                <audio controls=\"controls\" >\n",
       "                    <source src=\"audio/rand_sine_6sec.wav\" type=\"audio/wav\" />\n",
       "                    Your browser does not support the audio element.\n",
       "                </audio>\n",
       "              "
      ],
      "text/plain": [
       "<IPython.lib.display.Audio object>"
      ]
     },
     "execution_count": 88,
     "metadata": {},
     "output_type": "execute_result"
    }
   ],
   "source": [
    "Audio(url=\"audio/rand_sine_6sec.wav\") # random notes C4 to C6 (pure sine)"
   ]
  },
  {
   "cell_type": "code",
   "execution_count": 89,
   "metadata": {
    "collapsed": false
   },
   "outputs": [
    {
     "data": {
      "text/html": [
       "\n",
       "                <audio controls=\"controls\" >\n",
       "                    <source src=\"audio/bach_6sec.wav\" type=\"audio/wav\" />\n",
       "                    Your browser does not support the audio element.\n",
       "                </audio>\n",
       "              "
      ],
      "text/plain": [
       "<IPython.lib.display.Audio object>"
      ]
     },
     "execution_count": 89,
     "metadata": {},
     "output_type": "execute_result"
    }
   ],
   "source": [
    "Audio(url=\"audio/bach_6sec.wav\") # 6 Seconds from \"Bach English Suit #2 by Glen Gould\""
   ]
  },
  {
   "cell_type": "markdown",
   "metadata": {},
   "source": [
    "## Perfect reconstruction check (identity)\n",
    "We want to test that without application of the net we have perfect reconstruction\n",
    "Spectral Domain\n",
    "<img src=\"../jpgs/style_Scale_fm_6sec_perfect_reconstruction.fig.jpg\">\n",
    "Time Domain\n",
    "<img src=\"../jpgs/style_Scale_fm_6sec_perfect_reconstruction_time.jpg\">"
   ]
  },
  {
   "cell_type": "code",
   "execution_count": 90,
   "metadata": {
    "collapsed": false
   },
   "outputs": [
    {
     "data": {
      "text/html": [
       "\n",
       "                <audio controls=\"controls\" >\n",
       "                    <source src=\"audio/scale_fm_6sec.wav\" type=\"audio/wav\" />\n",
       "                    Your browser does not support the audio element.\n",
       "                </audio>\n",
       "              "
      ],
      "text/plain": [
       "<IPython.lib.display.Audio object>"
      ]
     },
     "execution_count": 90,
     "metadata": {},
     "output_type": "execute_result"
    }
   ],
   "source": [
    "### Original content\n",
    "Audio(url=\"audio/scale_fm_6sec.wav\")"
   ]
  },
  {
   "cell_type": "code",
   "execution_count": 91,
   "metadata": {
    "collapsed": false,
    "scrolled": true
   },
   "outputs": [
    {
     "data": {
      "text/html": [
       "\n",
       "                <audio controls=\"controls\" >\n",
       "                    <source src=\"../wavs/style_Scale_fm_6sec_perfect_reconstruction.wav\" type=\"audio/wav\" />\n",
       "                    Your browser does not support the audio element.\n",
       "                </audio>\n",
       "              "
      ],
      "text/plain": [
       "<IPython.lib.display.Audio object>"
      ]
     },
     "execution_count": 91,
     "metadata": {},
     "output_type": "execute_result"
    }
   ],
   "source": [
    "### Perfect reconstruction\n",
    "Audio(url=\"../wavs/style_Scale_fm_6sec_perfect_reconstruction.wav\")"
   ]
  },
  {
   "cell_type": "markdown",
   "metadata": {},
   "source": [
    "# Selected results\n",
    "\n",
    "Generaly, the results we've got might hint an interesting direction\n",
    "\n",
    "Here is an example of interesting transfers we have seen from fm-scale tyle and sine random notes and from chirp sound to male voice content\n",
    "\n",
    "Notice that the actual spectrograms are graylevel, here we use a colormap only for better visibility"
   ]
  },
  {
   "cell_type": "markdown",
   "metadata": {},
   "source": [
    "### Random notes pure sine in style of fm modulation\n",
    "\n",
    "We have took random notes 261.6Hz (C4) - 1046.5Hz (C6) synthesized with pure sine (single harmony) and tried transfering the acoustic style of a fm-modulated sound from a chromatic scale in the same range. \n",
    "\n",
    "It is interesting to note that the style transfered was able to weakly mimic a harmony structure of the fm-modulated signal and to transfer it as a suitable second harmony of the pure sine (2nd harmony is most prominent, but is not at the second multiple of the base).\n",
    "\n",
    "<img src=\"../jpgs/style_Scale_fm_6secVsContent_Rand_sine_6secParams__Weight2000_Imsize513_Iters250_InitImage_Original_color0.fig.jpg\">\n",
    "\n",
    "\n"
   ]
  },
  {
   "cell_type": "code",
   "execution_count": 92,
   "metadata": {
    "collapsed": false
   },
   "outputs": [
    {
     "data": {
      "text/html": [
       "\n",
       "                <audio controls=\"controls\" >\n",
       "                    <source src=\"audio/scale_fm_6sec.wav\" type=\"audio/wav\" />\n",
       "                    Your browser does not support the audio element.\n",
       "                </audio>\n",
       "              "
      ],
      "text/plain": [
       "<IPython.lib.display.Audio object>"
      ]
     },
     "execution_count": 92,
     "metadata": {},
     "output_type": "execute_result"
    }
   ],
   "source": [
    "### Style\n",
    "Audio(url=\"audio/scale_fm_6sec.wav\") # chromatic scale C5 to C7 (fm modulated)"
   ]
  },
  {
   "cell_type": "code",
   "execution_count": 93,
   "metadata": {
    "collapsed": false
   },
   "outputs": [
    {
     "data": {
      "text/html": [
       "\n",
       "                <audio controls=\"controls\" >\n",
       "                    <source src=\"audio/rand_sine_6sec.wav\" type=\"audio/wav\" />\n",
       "                    Your browser does not support the audio element.\n",
       "                </audio>\n",
       "              "
      ],
      "text/plain": [
       "<IPython.lib.display.Audio object>"
      ]
     },
     "execution_count": 93,
     "metadata": {},
     "output_type": "execute_result"
    }
   ],
   "source": [
    "### Content\n",
    "Audio(url=\"audio/rand_sine_6sec.wav\") # random notes C5 to C7 (pure sine)"
   ]
  },
  {
   "cell_type": "code",
   "execution_count": 94,
   "metadata": {
    "collapsed": false
   },
   "outputs": [
    {
     "data": {
      "text/html": [
       "\n",
       "                <audio controls=\"controls\" >\n",
       "                    <source src=\"audio/res/style_Scale_fm_6secVsContent_Rand_sine_6secParams__Weight2000_Imsize513_Iters250_InitImage_Original_color0_time.fig.wav\" type=\"audio/wav\" />\n",
       "                    Your browser does not support the audio element.\n",
       "                </audio>\n",
       "              "
      ],
      "text/plain": [
       "<IPython.lib.display.Audio object>"
      ]
     },
     "execution_count": 94,
     "metadata": {},
     "output_type": "execute_result"
    }
   ],
   "source": [
    "### Transfered\n",
    "Audio(url=\"audio/res/style_Scale_fm_6secVsContent_Rand_sine_6secParams__Weight2000_Imsize513_Iters250_InitImage_Original_color0_time.fig.wav\")"
   ]
  },
  {
   "cell_type": "markdown",
   "metadata": {},
   "source": [
    "### Piano (Bach) in style of FM-synthesizer\n",
    "\n",
    "\n",
    "<img src=\"../jpgs/style_Scale_fm_6secVsContent_Bach_6secParams__Weight500_Imsize513_Iters250_InitImage_Original_color0.fig.jpg\">\n",
    "\n",
    "\n"
   ]
  },
  {
   "cell_type": "code",
   "execution_count": 95,
   "metadata": {
    "collapsed": false
   },
   "outputs": [
    {
     "data": {
      "text/html": [
       "\n",
       "                <audio controls=\"controls\" >\n",
       "                    <source src=\"audio/scale_fm_6sec.wav\" type=\"audio/wav\" />\n",
       "                    Your browser does not support the audio element.\n",
       "                </audio>\n",
       "              "
      ],
      "text/plain": [
       "<IPython.lib.display.Audio object>"
      ]
     },
     "execution_count": 95,
     "metadata": {},
     "output_type": "execute_result"
    }
   ],
   "source": [
    "### Style\n",
    "Audio(url=\"audio/scale_fm_6sec.wav\") # chromatic scale C4 to C6 (fm modulated)"
   ]
  },
  {
   "cell_type": "code",
   "execution_count": 96,
   "metadata": {
    "collapsed": false
   },
   "outputs": [
    {
     "data": {
      "text/html": [
       "\n",
       "                <audio controls=\"controls\" >\n",
       "                    <source src=\"audio/bach_6sec.wav\" type=\"audio/wav\" />\n",
       "                    Your browser does not support the audio element.\n",
       "                </audio>\n",
       "              "
      ],
      "text/plain": [
       "<IPython.lib.display.Audio object>"
      ]
     },
     "execution_count": 96,
     "metadata": {},
     "output_type": "execute_result"
    }
   ],
   "source": [
    "### content\n",
    "Audio(url=\"audio/bach_6sec.wav\")"
   ]
  },
  {
   "cell_type": "code",
   "execution_count": 97,
   "metadata": {
    "collapsed": false
   },
   "outputs": [
    {
     "data": {
      "text/html": [
       "\n",
       "                <audio controls=\"controls\" >\n",
       "                    <source src=\"../wavs/style_Scale_fm_6secVsContent_Bach_6secParams__Weight500_Imsize513_Iters250_InitImage_Original_color0_time.fig.wav\" type=\"audio/wav\" />\n",
       "                    Your browser does not support the audio element.\n",
       "                </audio>\n",
       "              "
      ],
      "text/plain": [
       "<IPython.lib.display.Audio object>"
      ]
     },
     "execution_count": 97,
     "metadata": {},
     "output_type": "execute_result"
    }
   ],
   "source": [
    "### Transfered\n",
    "Audio(url=\"../wavs/style_Scale_fm_6secVsContent_Bach_6secParams__Weight500_Imsize513_Iters250_InitImage_Original_color0_time.fig.wav\")"
   ]
  },
  {
   "cell_type": "markdown",
   "metadata": {},
   "source": [
    "\n",
    "### Voice in style of Chirp\n",
    "\n",
    "<img src=\"../jpgs/style_Chirp_sq_na_100_3000VsContent_Ben_holechParams__Weight1000_Imsize513_Iters500_InitImage_Original_color0.fig.jpg\">\n",
    "\n",
    "Below are the original audios and the transfered one"
   ]
  },
  {
   "cell_type": "code",
   "execution_count": 98,
   "metadata": {
    "collapsed": false
   },
   "outputs": [
    {
     "data": {
      "text/html": [
       "\n",
       "                <audio controls=\"controls\" >\n",
       "                    <source src=\"audio/chirp_sq_na_100_3000.wav\" type=\"audio/wav\" />\n",
       "                    Your browser does not support the audio element.\n",
       "                </audio>\n",
       "              "
      ],
      "text/plain": [
       "<IPython.lib.display.Audio object>"
      ]
     },
     "execution_count": 98,
     "metadata": {},
     "output_type": "execute_result"
    }
   ],
   "source": [
    "### Style\n",
    "Audio(url=\"audio/chirp_sq_na_100_3000.wav\")"
   ]
  },
  {
   "cell_type": "code",
   "execution_count": 99,
   "metadata": {
    "collapsed": false
   },
   "outputs": [
    {
     "data": {
      "text/html": [
       "\n",
       "                <audio controls=\"controls\" >\n",
       "                    <source src=\"audio/ben_holech.wav\" type=\"audio/wav\" />\n",
       "                    Your browser does not support the audio element.\n",
       "                </audio>\n",
       "              "
      ],
      "text/plain": [
       "<IPython.lib.display.Audio object>"
      ]
     },
     "execution_count": 99,
     "metadata": {},
     "output_type": "execute_result"
    }
   ],
   "source": [
    "### content\n",
    "Audio(url=\"audio/ben_holech.wav\")"
   ]
  },
  {
   "cell_type": "code",
   "execution_count": 100,
   "metadata": {
    "collapsed": false
   },
   "outputs": [
    {
     "data": {
      "text/html": [
       "\n",
       "                <audio controls=\"controls\" >\n",
       "                    <source src=\"audio/res/style_Chirp_sq_na_100_3000VsContent_Ben_holechParams__Weight1000_Imsize513_Iters500_InitImage_Original_color0_time.fig.wav\" type=\"audio/wav\" />\n",
       "                    Your browser does not support the audio element.\n",
       "                </audio>\n",
       "              "
      ],
      "text/plain": [
       "<IPython.lib.display.Audio object>"
      ]
     },
     "execution_count": 100,
     "metadata": {},
     "output_type": "execute_result"
    }
   ],
   "source": [
    "### transfered\n",
    "Audio(url=\"audio/res/style_Chirp_sq_na_100_3000VsContent_Ben_holechParams__Weight1000_Imsize513_Iters500_InitImage_Original_color0_time.fig.wav\")"
   ]
  },
  {
   "cell_type": "markdown",
   "metadata": {},
   "source": [
    "# Style and content the same image\n",
    "## Initialization from content\n",
    "\n",
    "<img src=\"../jpgs/style_Scale_fm_6secVsContent_Scale_fm_6secParams__Weight2000_Imsize513_Iters250_InitImage_Original_color0.fig.jpg\">\n",
    "The results are almost identical.\n",
    "Also in the time domain.\n",
    "\n",
    "<img src=\"../jpgs/style_Scale_fm_6secVsContent_Scale_fm_6secParams__Weight2000_Imsize513_Iters250_InitImage_Original_color0_time.fig.jpg\">"
   ]
  },
  {
   "cell_type": "markdown",
   "metadata": {},
   "source": [
    "## Initialization from random high style weight\n",
    "<img src=\"../jpgs/style_Scale_fm_6secVsContent_Scale_fm_6secParams__Weight2000_Imsize513_Iters250_InitRandom_Original_color0.fig.jpg\">\n",
    "We can see the content is present when we lower the style weight."
   ]
  },
  {
   "cell_type": "code",
   "execution_count": 101,
   "metadata": {
    "collapsed": false
   },
   "outputs": [
    {
     "data": {
      "text/html": [
       "\n",
       "                <audio controls=\"controls\" >\n",
       "                    <source src=\"../wavs/style_Scale_fm_6secVsContent_Scale_fm_6secParams__Weight2000_Imsize513_Iters250_InitRandom_Original_color0_time.fig.wav\" type=\"audio/wav\" />\n",
       "                    Your browser does not support the audio element.\n",
       "                </audio>\n",
       "              "
      ],
      "text/plain": [
       "<IPython.lib.display.Audio object>"
      ]
     },
     "execution_count": 101,
     "metadata": {},
     "output_type": "execute_result"
    }
   ],
   "source": [
    "### Output of random image high style weigt\n",
    "Audio(url=\"../wavs/style_Scale_fm_6secVsContent_Scale_fm_6secParams__Weight2000_Imsize513_Iters250_InitRandom_Original_color0_time.fig.wav\")"
   ]
  },
  {
   "cell_type": "markdown",
   "metadata": {},
   "source": [
    "## Initialization from random low style weight\n",
    "<img src=\"../jpgs/style_Scale_fm_6secVsContent_Scale_fm_6secParams__Weight500_Imsize513_Iters250_InitRandom_Original_color0.fig.jpg\">\n",
    "We can see the content is almost not present, maybe due to a high style weight."
   ]
  },
  {
   "cell_type": "code",
   "execution_count": 102,
   "metadata": {
    "collapsed": false
   },
   "outputs": [
    {
     "data": {
      "text/html": [
       "\n",
       "                <audio controls=\"controls\" >\n",
       "                    <source src=\"../wavs/style_Scale_fm_6secVsContent_Scale_fm_6secParams__Weight500_Imsize513_Iters250_InitRandom_Original_color0_time.fig.wav\" type=\"audio/wav\" />\n",
       "                    Your browser does not support the audio element.\n",
       "                </audio>\n",
       "              "
      ],
      "text/plain": [
       "<IPython.lib.display.Audio object>"
      ]
     },
     "execution_count": 102,
     "metadata": {},
     "output_type": "execute_result"
    }
   ],
   "source": [
    "### Output of random initialization low style weight\n",
    "Audio(url=\"../wavs/style_Scale_fm_6secVsContent_Scale_fm_6secParams__Weight500_Imsize513_Iters250_InitRandom_Original_color0_time.fig.wav\")"
   ]
  },
  {
   "cell_type": "markdown",
   "metadata": {},
   "source": [
    "# Other interesting results gallery\n",
    "<img src=\"../jpgs/style_DtmfVsContent_Chirp_sq_na_100_3000Params__Weight2000_Imsize513_Iters250_InitImage_Original_color0.fig.jpg\">\n"
   ]
  },
  {
   "cell_type": "code",
   "execution_count": 103,
   "metadata": {
    "collapsed": false
   },
   "outputs": [
    {
     "data": {
      "text/html": [
       "\n",
       "                <audio controls=\"controls\" >\n",
       "                    <source src=\"../wavs/style_DtmfVsContent_Chirp_sq_na_100_3000Params__Weight2000_Imsize513_Iters250_InitImage_Original_color0_time.fig.wav\" type=\"audio/wav\" />\n",
       "                    Your browser does not support the audio element.\n",
       "                </audio>\n",
       "              "
      ],
      "text/plain": [
       "<IPython.lib.display.Audio object>"
      ]
     },
     "execution_count": 103,
     "metadata": {},
     "output_type": "execute_result"
    }
   ],
   "source": [
    "### Transfered\n",
    "Audio(url=\"../wavs/style_DtmfVsContent_Chirp_sq_na_100_3000Params__Weight2000_Imsize513_Iters250_InitImage_Original_color0_time.fig.wav\")"
   ]
  },
  {
   "cell_type": "markdown",
   "metadata": {},
   "source": [
    "<img src=\"../jpgs/style_DtmfVsContent_Ben_holechParams__Weight10000_Imsize513_Iters200_InitImage_Original_color0.fig.jpg\">\n"
   ]
  },
  {
   "cell_type": "code",
   "execution_count": 104,
   "metadata": {
    "collapsed": false
   },
   "outputs": [
    {
     "data": {
      "text/html": [
       "\n",
       "                <audio controls=\"controls\" >\n",
       "                    <source src=\"../wavs/style_DtmfVsContent_Ben_holechParams__Weight10000_Imsize513_Iters200_InitImage_Original_color0_time.fig.wav\" type=\"audio/wav\" />\n",
       "                    Your browser does not support the audio element.\n",
       "                </audio>\n",
       "              "
      ],
      "text/plain": [
       "<IPython.lib.display.Audio object>"
      ]
     },
     "execution_count": 104,
     "metadata": {},
     "output_type": "execute_result"
    }
   ],
   "source": [
    "### Transfered\n",
    "Audio(url=\"../wavs/style_DtmfVsContent_Ben_holechParams__Weight10000_Imsize513_Iters200_InitImage_Original_color0_time.fig.wav\")"
   ]
  },
  {
   "cell_type": "markdown",
   "metadata": {},
   "source": [
    "<img src=\"../jpgs/style_DtmfVsContent_Ben_holechParams__Weight1000_Imsize513_Iters100_InitImage_Original_color0.fig.jpg\">\n"
   ]
  },
  {
   "cell_type": "code",
   "execution_count": 105,
   "metadata": {
    "collapsed": false
   },
   "outputs": [
    {
     "data": {
      "text/html": [
       "\n",
       "                <audio controls=\"controls\" >\n",
       "                    <source src=\"../wavs/style_DtmfVsContent_Ben_holechParams__Weight1000_Imsize513_Iters100_InitImage_Original_color0_time.fig.wav\" type=\"audio/wav\" />\n",
       "                    Your browser does not support the audio element.\n",
       "                </audio>\n",
       "              "
      ],
      "text/plain": [
       "<IPython.lib.display.Audio object>"
      ]
     },
     "execution_count": 105,
     "metadata": {},
     "output_type": "execute_result"
    }
   ],
   "source": [
    "### Transfered\n",
    "Audio(url=\"../wavs/style_DtmfVsContent_Ben_holechParams__Weight1000_Imsize513_Iters100_InitImage_Original_color0_time.fig.wav\")"
   ]
  },
  {
   "cell_type": "markdown",
   "metadata": {},
   "source": [
    "<img src=\"../jpgs/style_ChirpVsContent_Ben_holechParams__Weight10000_Imsize513_Iters100_InitImage_Original_color0.fig.jpg\">\n",
    "\n"
   ]
  },
  {
   "cell_type": "code",
   "execution_count": 106,
   "metadata": {
    "collapsed": false
   },
   "outputs": [
    {
     "data": {
      "text/html": [
       "\n",
       "                <audio controls=\"controls\" >\n",
       "                    <source src=\"../wavs/style_ChirpVsContent_Ben_holechParams__Weight10000_Imsize513_Iters100_InitImage_Original_color0_time.fig.wav\" type=\"audio/wav\" />\n",
       "                    Your browser does not support the audio element.\n",
       "                </audio>\n",
       "              "
      ],
      "text/plain": [
       "<IPython.lib.display.Audio object>"
      ]
     },
     "execution_count": 106,
     "metadata": {},
     "output_type": "execute_result"
    }
   ],
   "source": [
    "### Transfered\n",
    "Audio(url=\"../wavs/style_ChirpVsContent_Ben_holechParams__Weight10000_Imsize513_Iters100_InitImage_Original_color0_time.fig.wav\")"
   ]
  },
  {
   "cell_type": "markdown",
   "metadata": {},
   "source": [
    "<img src=\"../jpgs/style_Chirp_sq_na_100_3000VsContent_NoiseParams__Weight1000_Imsize513_Iters100_InitImage_Original_color0.fig.jpg\">\n"
   ]
  },
  {
   "cell_type": "code",
   "execution_count": 107,
   "metadata": {
    "collapsed": false
   },
   "outputs": [
    {
     "data": {
      "text/html": [
       "\n",
       "                <audio controls=\"controls\" >\n",
       "                    <source src=\"../wavs/style_Chirp_sq_na_100_3000VsContent_NoiseParams__Weight1000_Imsize513_Iters100_InitImage_Original_color0_time.fig.wav\" type=\"audio/wav\" />\n",
       "                    Your browser does not support the audio element.\n",
       "                </audio>\n",
       "              "
      ],
      "text/plain": [
       "<IPython.lib.display.Audio object>"
      ]
     },
     "execution_count": 107,
     "metadata": {},
     "output_type": "execute_result"
    }
   ],
   "source": [
    "### Transfered\n",
    "Audio(url=\"../wavs/style_Chirp_sq_na_100_3000VsContent_NoiseParams__Weight1000_Imsize513_Iters100_InitImage_Original_color0_time.fig.wav\")"
   ]
  },
  {
   "cell_type": "markdown",
   "metadata": {},
   "source": [
    "<img src=\"../jpgs/style_Chirp_sq_na_100_3000VsContent_DtmfParams__Weight2000_Imsize513_Iters250_InitImage_Original_color0.fig.jpg\">\n"
   ]
  },
  {
   "cell_type": "code",
   "execution_count": 108,
   "metadata": {
    "collapsed": false
   },
   "outputs": [
    {
     "data": {
      "text/html": [
       "\n",
       "                <audio controls=\"controls\" >\n",
       "                    <source src=\"../wavs/style_Chirp_sq_na_100_3000VsContent_DtmfParams__Weight2000_Imsize513_Iters250_InitImage_Original_color0_time.fig.wav\" type=\"audio/wav\" />\n",
       "                    Your browser does not support the audio element.\n",
       "                </audio>\n",
       "              "
      ],
      "text/plain": [
       "<IPython.lib.display.Audio object>"
      ]
     },
     "execution_count": 108,
     "metadata": {},
     "output_type": "execute_result"
    }
   ],
   "source": [
    "### Transfered\n",
    "Audio(url=\"../wavs/style_Chirp_sq_na_100_3000VsContent_DtmfParams__Weight2000_Imsize513_Iters250_InitImage_Original_color0_time.fig.wav\")"
   ]
  },
  {
   "cell_type": "markdown",
   "metadata": {},
   "source": [
    "<img src=\"../jpgs/style_Ben_holechVsContent_DtmfParams__Weight10000_Imsize513_Iters200_InitImage_Original_color0.fig.jpg\">\n"
   ]
  },
  {
   "cell_type": "code",
   "execution_count": 109,
   "metadata": {
    "collapsed": false
   },
   "outputs": [
    {
     "data": {
      "text/html": [
       "\n",
       "                <audio controls=\"controls\" >\n",
       "                    <source src=\"../wavs/style_Ben_holechVsContent_DtmfParams__Weight10000_Imsize513_Iters200_InitImage_Original_color0_time.fig.wav\" type=\"audio/wav\" />\n",
       "                    Your browser does not support the audio element.\n",
       "                </audio>\n",
       "              "
      ],
      "text/plain": [
       "<IPython.lib.display.Audio object>"
      ]
     },
     "execution_count": 109,
     "metadata": {},
     "output_type": "execute_result"
    }
   ],
   "source": [
    "### Transfered\n",
    "Audio(url=\"../wavs/style_Ben_holechVsContent_DtmfParams__Weight10000_Imsize513_Iters200_InitImage_Original_color0_time.fig.wav\")"
   ]
  },
  {
   "cell_type": "markdown",
   "metadata": {},
   "source": [
    "<img src=\"../jpgs/style_Ben_holechVsContent_NoiseParams__Weight10000_Imsize513_Iters200_InitImage_Original_color0.fig.jpg\">"
   ]
  },
  {
   "cell_type": "code",
   "execution_count": 110,
   "metadata": {
    "collapsed": false
   },
   "outputs": [
    {
     "data": {
      "text/html": [
       "\n",
       "                <audio controls=\"controls\" >\n",
       "                    <source src=\"../wavs/style_Ben_holechVsContent_NoiseParams__Weight10000_Imsize513_Iters200_InitImage_Original_color0_time.fig.wav\" type=\"audio/wav\" />\n",
       "                    Your browser does not support the audio element.\n",
       "                </audio>\n",
       "              "
      ],
      "text/plain": [
       "<IPython.lib.display.Audio object>"
      ]
     },
     "execution_count": 110,
     "metadata": {},
     "output_type": "execute_result"
    }
   ],
   "source": [
    "### Transfered\n",
    "Audio(url=\"../wavs/style_Ben_holechVsContent_NoiseParams__Weight10000_Imsize513_Iters200_InitImage_Original_color0_time.fig.wav\")"
   ]
  },
  {
   "cell_type": "markdown",
   "metadata": {},
   "source": []
  },
  {
   "cell_type": "markdown",
   "metadata": {},
   "source": [
    "# Bach Jackson style transfer"
   ]
  },
  {
   "cell_type": "markdown",
   "metadata": {},
   "source": [
    "<img src='../jpgs/bach-jackson.png'>"
   ]
  }
 ],
 "metadata": {
  "anaconda-cloud": {},
  "kernelspec": {
   "display_name": "Python 3",
   "language": "python",
   "name": "python3"
  },
  "language_info": {
   "codemirror_mode": {
    "name": "ipython",
    "version": 3
   },
   "file_extension": ".py",
   "mimetype": "text/x-python",
   "name": "python",
   "nbconvert_exporter": "python",
   "pygments_lexer": "ipython3",
   "version": "3.5.1"
  }
 },
 "nbformat": 4,
 "nbformat_minor": 0
}
