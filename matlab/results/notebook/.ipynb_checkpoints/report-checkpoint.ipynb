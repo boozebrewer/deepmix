{
 "cells": [
  {
   "cell_type": "markdown",
   "metadata": {},
   "source": [
    "### progress report for 07/08/2016"
   ]
  },
  {
   "cell_type": "markdown",
   "metadata": {},
   "source": [
    "\n",
    "\n",
    "# My setup\n",
    "\n",
    "I've opened a server on AWS (amazon) that supports GPU based on ami-b36981d8. I've only need to update torch on the machine and clone neural-style from github.\n",
    "\n",
    "I've used a stft/istf to create style/content spectrugrams and send them to AWS with ssh2/scp, run neural-style algorithm and return the transfered image back to my PC for reconstruction of the wav. This allows be to check several algorithm parameters and wav inputs quickly without a need for human intervention in-betweeners. The code to run the \"full-loop\" setup is matlab/full_loop.m.\n",
    "\n",
    "# Experiments\n",
    "\n",
    "I've tried style transfer from several contents to several styles.\n",
    "For the stft I've used 8kHz sampling rate with 512 freq (positive) bins, 32mSec frames with 28mSec. For upto 2 Sec audio segments this gives no more then 512 time frames, so the maximal image is 512x512.\n",
    "\n",
    "Tried these inputs in various configurations\n",
    "\n",
    "* voice male (3 words)\n",
    "* voice female (1 word)\n",
    "* chirp (from 100Hz to 3000Hz)\n",
    "* dtmf tones (12 diferent tones)\n",
    "* noise\n",
    "\n"
   ]
  },
  {
   "cell_type": "markdown",
   "metadata": {},
   "source": [
    "# Example results\n",
    "\n",
    "Here is an example of interesting transfer was seen from chirp sound to male voice content\n",
    "\n",
    "### Voice in style of Chirp\n",
    "\n",
    "<img src=\"../jpgs/style_Chirp_sq_na_100_3000VsContent_Ben_holechParams__Weight1000_Imsize513_Iters500_InitImage_Original_color0.fig.jpg\">\n",
    "\n",
    "Below are the original audios and the transfered one"
   ]
  },
  {
   "cell_type": "code",
   "execution_count": 24,
   "metadata": {
    "collapsed": false
   },
   "outputs": [
    {
     "data": {
      "text/html": [
       "\n",
       "                <audio controls=\"controls\" >\n",
       "                    <source src=\"audio/chirp_sq_na_100_3000.wav\" type=\"audio/wav\" />\n",
       "                    Your browser does not support the audio element.\n",
       "                </audio>\n",
       "              "
      ],
      "text/plain": [
       "<IPython.lib.display.Audio object>"
      ]
     },
     "execution_count": 24,
     "metadata": {},
     "output_type": "execute_result"
    }
   ],
   "source": [
    "from IPython.display import Audio\n",
    "### Style\n",
    "Audio(url=\"audio/chirp_sq_na_100_3000.wav\")"
   ]
  },
  {
   "cell_type": "code",
   "execution_count": 25,
   "metadata": {
    "collapsed": false
   },
   "outputs": [
    {
     "data": {
      "text/html": [
       "\n",
       "                <audio controls=\"controls\" >\n",
       "                    <source src=\"audio/ben_holech.wav\" type=\"audio/wav\" />\n",
       "                    Your browser does not support the audio element.\n",
       "                </audio>\n",
       "              "
      ],
      "text/plain": [
       "<IPython.lib.display.Audio object>"
      ]
     },
     "execution_count": 25,
     "metadata": {},
     "output_type": "execute_result"
    }
   ],
   "source": [
    "### content\n",
    "Audio(url=\"audio/ben_holech.wav\")"
   ]
  },
  {
   "cell_type": "code",
   "execution_count": 27,
   "metadata": {
    "collapsed": false
   },
   "outputs": [
    {
     "data": {
      "text/html": [
       "\n",
       "                <audio controls=\"controls\" >\n",
       "                    <source src=\"audio/res/style_Chirp_sq_na_100_3000VsContent_Ben_holechParams__Weight1000_Imsize513_Iters500_InitImage_Original_color0_time.fig.wav\" type=\"audio/wav\" />\n",
       "                    Your browser does not support the audio element.\n",
       "                </audio>\n",
       "              "
      ],
      "text/plain": [
       "<IPython.lib.display.Audio object>"
      ]
     },
     "execution_count": 27,
     "metadata": {},
     "output_type": "execute_result"
    }
   ],
   "source": [
    "### transfered\n",
    "Audio(url=\"audio/res/style_Chirp_sq_na_100_3000VsContent_Ben_holechParams__Weight1000_Imsize513_Iters500_InitImage_Original_color0_time.fig.wav\")"
   ]
  },
  {
   "cell_type": "markdown",
   "metadata": {},
   "source": [
    "# Other interesting results gallery\n",
    "<img src=\"../jpgs/style_DtmfVsContent_Chirp_sq_na_100_3000Params__Weight2000_Imsize513_Iters250_InitImage_Original_color0.fig.jpg\">\n",
    "\n",
    "<img src=\"../jpgs/style_DtmfVsContent_Ben_holechParams__Weight10000_Imsize513_Iters200_InitImage_Original_color0.fig.jpg\">\n",
    "\n",
    "<img src=\"../jpgs/style_DtmfVsContent_Ben_holechParams__Weight1000_Imsize513_Iters100_InitImage_Original_color0.fig.jpg\">\n",
    "\n",
    "<img src=\"../jpgs/style_ChirpVsContent_Ben_holechParams__Weight10000_Imsize513_Iters100_InitImage_Original_color0.fig.jpg\">\n",
    "\n",
    "<img src=\"../jpgs/style_Chirp_sq_na_100_3000VsContent_NoiseParams__Weight1000_Imsize513_Iters100_InitImage_Original_color0.fig.jpg\">\n",
    "\n",
    "<img src=\"../jpgs/style_Chirp_sq_na_100_3000VsContent_DtmfParams__Weight2000_Imsize513_Iters250_InitImage_Original_color0.fig.jpg\">\n",
    "\n",
    "<img src=\"../jpgs/style_Ben_holechVsContent_DtmfParams__Weight10000_Imsize513_Iters200_InitImage_Original_color0.fig.jpg\">\n",
    "\n",
    "<img src=\"../jpgs/style_Ben_holechVsContent_NoiseParams__Weight10000_Imsize513_Iters200_InitImage_Original_color0.fig.jpg\">\n",
    "\n",
    "\n"
   ]
  }
 ],
 "metadata": {
  "kernelspec": {
   "display_name": "Python 3",
   "language": "python",
   "name": "python3"
  },
  "language_info": {
   "codemirror_mode": {
    "name": "ipython",
    "version": 3
   },
   "file_extension": ".py",
   "mimetype": "text/x-python",
   "name": "python",
   "nbconvert_exporter": "python",
   "pygments_lexer": "ipython3",
   "version": "3.5.1"
  }
 },
 "nbformat": 4,
 "nbformat_minor": 0
}
